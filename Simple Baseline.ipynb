{
 "cells": [
  {
   "cell_type": "markdown",
   "id": "15755a5f",
   "metadata": {
    "papermill": {
     "duration": 0.004369,
     "end_time": "2023-01-08T13:39:09.881698",
     "exception": false,
     "start_time": "2023-01-08T13:39:09.877329",
     "status": "completed"
    },
    "tags": []
   },
   "source": [
    "This is a simple baseline code using SBERT.\n",
    "\n",
    "It has no training phase. It only calculates the cosine similarity between topic and content. \n",
    "\n",
    "I choose the most similar content as the predicted output."
   ]
  },
  {
   "cell_type": "markdown",
   "id": "7a53bf04",
   "metadata": {
    "papermill": {
     "duration": 0.002987,
     "end_time": "2023-01-08T13:39:09.888107",
     "exception": false,
     "start_time": "2023-01-08T13:39:09.885120",
     "status": "completed"
    },
    "tags": []
   },
   "source": [
    "# Code"
   ]
  },
  {
   "cell_type": "markdown",
   "id": "eab54e3c",
   "metadata": {
    "papermill": {
     "duration": 0.002969,
     "end_time": "2023-01-08T13:39:09.894277",
     "exception": false,
     "start_time": "2023-01-08T13:39:09.891308",
     "status": "completed"
    },
    "tags": []
   },
   "source": [
    "**Version 5**:\n",
    "* Use `text` or `description` or `title` field of the `topic` and `content`\n",
    "* Choose only those contents with the same `language` field as the topic\n",
    "* Select TOP-5 `content` since the average number of correlations per topic is 4.6\n",
    "* Use GPU P100\n",
    "* Save SBERT and vectors as dataset"
   ]
  },
  {
   "cell_type": "code",
   "execution_count": 1,
   "id": "c8932310",
   "metadata": {
    "execution": {
     "iopub.execute_input": "2023-01-08T13:39:09.903195Z",
     "iopub.status.busy": "2023-01-08T13:39:09.902338Z",
     "iopub.status.idle": "2023-01-08T13:39:15.525097Z",
     "shell.execute_reply": "2023-01-08T13:39:15.524121Z"
    },
    "papermill": {
     "duration": 5.63018,
     "end_time": "2023-01-08T13:39:15.527602",
     "exception": false,
     "start_time": "2023-01-08T13:39:09.897422",
     "status": "completed"
    },
    "tags": []
   },
   "outputs": [],
   "source": [
    "import numpy as np\n",
    "import pandas as pd\n",
    "import torch\n",
    "import cupy\n",
    "from transformers import AutoTokenizer, AutoModel\n",
    "from tqdm.auto import tqdm\n",
    "from cuml.metrics import pairwise_distances"
   ]
  },
  {
   "cell_type": "code",
   "execution_count": 2,
   "id": "e36e7cc6",
   "metadata": {
    "execution": {
     "iopub.execute_input": "2023-01-08T13:39:15.538687Z",
     "iopub.status.busy": "2023-01-08T13:39:15.537299Z",
     "iopub.status.idle": "2023-01-08T13:39:15.542973Z",
     "shell.execute_reply": "2023-01-08T13:39:15.542030Z"
    },
    "papermill": {
     "duration": 0.012724,
     "end_time": "2023-01-08T13:39:15.544946",
     "exception": false,
     "start_time": "2023-01-08T13:39:15.532222",
     "status": "completed"
    },
    "tags": []
   },
   "outputs": [],
   "source": [
    "# config\n",
    "device = \"cuda\" if torch.cuda.is_available() else \"cpu\"\n",
    "DATA_PATH = \"/kaggle/input/learning-equality-curriculum-recommendations/\"\n",
    "MODEL_PATH = \"/kaggle/input/sbert-models/paraphrase-multilingual-mpnet-base-v2\"\n",
    "VEC_PATH = '/kaggle/input/lecr-baseline-vectors/'\n",
    "MAX_LEN = 512\n",
    "TOP_N = 5\n",
    "DEBUG = False"
   ]
  },
  {
   "cell_type": "code",
   "execution_count": 3,
   "id": "ef8071ca",
   "metadata": {
    "execution": {
     "iopub.execute_input": "2023-01-08T13:39:15.552719Z",
     "iopub.status.busy": "2023-01-08T13:39:15.552440Z",
     "iopub.status.idle": "2023-01-08T13:39:37.623552Z",
     "shell.execute_reply": "2023-01-08T13:39:37.622463Z"
    },
    "papermill": {
     "duration": 22.077889,
     "end_time": "2023-01-08T13:39:37.626076",
     "exception": false,
     "start_time": "2023-01-08T13:39:15.548187",
     "status": "completed"
    },
    "tags": []
   },
   "outputs": [],
   "source": [
    "# read data\n",
    "content = pd.read_csv(DATA_PATH + 'content.csv')\n",
    "topics = pd.read_csv(DATA_PATH + 'topics.csv')\n",
    "correlations = pd.read_csv(DATA_PATH + 'correlations.csv')\n",
    "submission = pd.read_csv(DATA_PATH + 'sample_submission.csv')"
   ]
  },
  {
   "cell_type": "code",
   "execution_count": 4,
   "id": "3d09bc91",
   "metadata": {
    "execution": {
     "iopub.execute_input": "2023-01-08T13:39:37.634664Z",
     "iopub.status.busy": "2023-01-08T13:39:37.634279Z",
     "iopub.status.idle": "2023-01-08T13:39:59.120324Z",
     "shell.execute_reply": "2023-01-08T13:39:59.119121Z"
    },
    "papermill": {
     "duration": 21.493152,
     "end_time": "2023-01-08T13:39:59.122877",
     "exception": false,
     "start_time": "2023-01-08T13:39:37.629725",
     "status": "completed"
    },
    "tags": []
   },
   "outputs": [],
   "source": [
    "# model\n",
    "model = AutoModel.from_pretrained(MODEL_PATH)\n",
    "model.eval()\n",
    "model.to(device)\n",
    "# tokenizer\n",
    "tokenizer = AutoTokenizer.from_pretrained(MODEL_PATH)"
   ]
  },
  {
   "cell_type": "code",
   "execution_count": 5,
   "id": "b10992ab",
   "metadata": {
    "execution": {
     "iopub.execute_input": "2023-01-08T13:39:59.131710Z",
     "iopub.status.busy": "2023-01-08T13:39:59.131361Z",
     "iopub.status.idle": "2023-01-08T13:40:05.145213Z",
     "shell.execute_reply": "2023-01-08T13:40:05.144094Z"
    },
    "papermill": {
     "duration": 6.021372,
     "end_time": "2023-01-08T13:40:05.147851",
     "exception": false,
     "start_time": "2023-01-08T13:39:59.126479",
     "status": "completed"
    },
    "tags": []
   },
   "outputs": [],
   "source": [
    "# embedding content\n",
    "if DEBUG == False:\n",
    "    emb_content = np.load(VEC_PATH + 'vecs_content.npy')\n",
    "    emb_content = torch.tensor(emb_content)\n",
    "else:\n",
    "    vecs_content = []\n",
    "\n",
    "    for _, row in tqdm(content.iterrows(), total=len(content)):\n",
    "        # input sentence\n",
    "        sentence = row['text']\n",
    "        if type(sentence) is float:\n",
    "            sentence = row['description']\n",
    "        if type(sentence) is float:\n",
    "            sentence = row['title']\n",
    "\n",
    "        # tokenize\n",
    "        tok = tokenizer(sentence)\n",
    "        for k, v in tok.items():\n",
    "            tok[k] = torch.tensor(v[:MAX_LEN]).to(device).unsqueeze(0)\n",
    "\n",
    "        # embedded vector\n",
    "        with torch.no_grad():\n",
    "            output = model(**tok)\n",
    "        vec = output.last_hidden_state.squeeze(0).mean(0).cpu()\n",
    "        vecs_content.append(vec)\n",
    "\n",
    "    # embedded content\n",
    "    emb_content = torch.stack(vecs_content)"
   ]
  },
  {
   "cell_type": "code",
   "execution_count": 6,
   "id": "bca8d4c0",
   "metadata": {
    "execution": {
     "iopub.execute_input": "2023-01-08T13:40:05.156199Z",
     "iopub.status.busy": "2023-01-08T13:40:05.155806Z",
     "iopub.status.idle": "2023-01-08T13:40:05.240152Z",
     "shell.execute_reply": "2023-01-08T13:40:05.239153Z"
    },
    "papermill": {
     "duration": 0.091173,
     "end_time": "2023-01-08T13:40:05.242527",
     "exception": false,
     "start_time": "2023-01-08T13:40:05.151354",
     "status": "completed"
    },
    "tags": []
   },
   "outputs": [],
   "source": [
    "# topic dataframes we need to predict\n",
    "submission_topic_ids = submission['topic_id'].tolist()\n",
    "submission_topics = topics.query(f'id in {submission_topic_ids}').reset_index(drop=True)"
   ]
  },
  {
   "cell_type": "code",
   "execution_count": 7,
   "id": "b1b45661",
   "metadata": {
    "execution": {
     "iopub.execute_input": "2023-01-08T13:40:05.250667Z",
     "iopub.status.busy": "2023-01-08T13:40:05.250355Z",
     "iopub.status.idle": "2023-01-08T13:40:05.260977Z",
     "shell.execute_reply": "2023-01-08T13:40:05.260030Z"
    },
    "papermill": {
     "duration": 0.017024,
     "end_time": "2023-01-08T13:40:05.263079",
     "exception": false,
     "start_time": "2023-01-08T13:40:05.246055",
     "status": "completed"
    },
    "tags": []
   },
   "outputs": [],
   "source": [
    "# embedding topics\n",
    "if DEBUG == False:\n",
    "    emb_topics = np.load(VEC_PATH + 'vecs_topics.npy')\n",
    "    emb_topics = torch.tensor(emb_topics)\n",
    "else:\n",
    "    vecs_topics = []\n",
    "\n",
    "    for _, row in tqdm(submission_topics.iterrows(), total=len(submission_topics)):\n",
    "        # input sentence\n",
    "        sentence = row['description']\n",
    "        if type(sentence) is float:\n",
    "            sentence = row['title']\n",
    "\n",
    "        # tokenize\n",
    "        tok = tokenizer(sentence)\n",
    "        for k, v in tok.items():\n",
    "            tok[k] = torch.tensor(v[:MAX_LEN]).to(device).unsqueeze(0)\n",
    "\n",
    "        # embedded vector\n",
    "        with torch.no_grad():\n",
    "            output = model(**tok)\n",
    "        vec = output.last_hidden_state.squeeze(0).mean(0).cpu()\n",
    "        vecs_topics.append(vec)\n",
    "\n",
    "    # embedded topics\n",
    "    emb_topics = torch.stack(vecs_topics)"
   ]
  },
  {
   "cell_type": "code",
   "execution_count": 8,
   "id": "bfdc3103",
   "metadata": {
    "execution": {
     "iopub.execute_input": "2023-01-08T13:40:05.271857Z",
     "iopub.status.busy": "2023-01-08T13:40:05.271489Z",
     "iopub.status.idle": "2023-01-08T13:40:05.276849Z",
     "shell.execute_reply": "2023-01-08T13:40:05.275851Z"
    },
    "papermill": {
     "duration": 0.012399,
     "end_time": "2023-01-08T13:40:05.279122",
     "exception": false,
     "start_time": "2023-01-08T13:40:05.266723",
     "status": "completed"
    },
    "tags": []
   },
   "outputs": [],
   "source": [
    "# save embeddings as dataset\n",
    "# import cupy\n",
    "# cupy.save('vecs_topics', vecs_topics)\n",
    "# cupy.save('vecs_content', vecs_content)"
   ]
  },
  {
   "cell_type": "code",
   "execution_count": 9,
   "id": "4334ca32",
   "metadata": {
    "execution": {
     "iopub.execute_input": "2023-01-08T13:40:05.288856Z",
     "iopub.status.busy": "2023-01-08T13:40:05.288467Z",
     "iopub.status.idle": "2023-01-08T13:40:07.376055Z",
     "shell.execute_reply": "2023-01-08T13:40:07.375013Z"
    },
    "papermill": {
     "duration": 2.095587,
     "end_time": "2023-01-08T13:40:07.378735",
     "exception": false,
     "start_time": "2023-01-08T13:40:05.283148",
     "status": "completed"
    },
    "tags": []
   },
   "outputs": [],
   "source": [
    "# predict\n",
    "vecs_content = cupy.asarray(emb_content)\n",
    "vecs_topics = cupy.asarray(emb_topics)\n",
    "\n",
    "predicts = []\n",
    "for index, vec in enumerate(vecs_topics):\n",
    "    # calculate cosine similarity\n",
    "    cosine_sims = pairwise_distances(vec.reshape(1, len(vec)), vecs_content, metric='cosine')\n",
    "    \n",
    "    # choose only those with the same language\n",
    "    language = submission_topics.loc[index, 'language']\n",
    "    same_language_index = content.query(f'language==\"{language}\"').index.tolist()\n",
    "    \n",
    "    # select\n",
    "    res = []\n",
    "    for sim_index in cosine_sims.argsort(1)[0].get():\n",
    "        if sim_index in same_language_index:\n",
    "            res.append(sim_index)\n",
    "        # Only select TOP-N\n",
    "        if len(res) >= TOP_N:\n",
    "            break\n",
    "            \n",
    "    # combine all the selected results with space\n",
    "    pred = \" \".join([content.loc[s, 'id'] for s in res])\n",
    "    predicts.append(pred)"
   ]
  },
  {
   "cell_type": "code",
   "execution_count": 10,
   "id": "8160450c",
   "metadata": {
    "execution": {
     "iopub.execute_input": "2023-01-08T13:40:07.387010Z",
     "iopub.status.busy": "2023-01-08T13:40:07.386636Z",
     "iopub.status.idle": "2023-01-08T13:40:07.399871Z",
     "shell.execute_reply": "2023-01-08T13:40:07.398885Z"
    },
    "papermill": {
     "duration": 0.020636,
     "end_time": "2023-01-08T13:40:07.402885",
     "exception": false,
     "start_time": "2023-01-08T13:40:07.382249",
     "status": "completed"
    },
    "tags": []
   },
   "outputs": [
    {
     "name": "stdout",
     "output_type": "stream",
     "text": [
      "         topic_id                                        content_ids\n",
      "0  t_00004da3a1b2  c_ea45fb870cbe c_8768f474805d c_7d756190bda7 c...\n",
      "1  t_00068291e9a4  c_9a106c2655ac c_24d97713000d c_0809a3357679 c...\n",
      "2  t_00069b63a70a  c_a6db0765d460 c_ac592c567023 c_f37ecf29f9c9 c...\n",
      "3  t_0006d41a73a8  c_2e165cfa1a05 c_33699a2b161f c_6c44cf34950b c...\n",
      "4  t_4054df11a74e  c_f6416e74f9bb c_11a1dc0bfb99 c_e3fc621f753a c...\n"
     ]
    }
   ],
   "source": [
    "# submission file\n",
    "submission['content_ids'] = predicts\n",
    "print(submission)\n",
    "\n",
    "submission.to_csv('submission.csv', index=None)"
   ]
  },
  {
   "cell_type": "markdown",
   "id": "87823a64",
   "metadata": {
    "papermill": {
     "duration": 0.003194,
     "end_time": "2023-01-08T13:40:07.410607",
     "exception": false,
     "start_time": "2023-01-08T13:40:07.407413",
     "status": "completed"
    },
    "tags": []
   },
   "source": [
    "# What to do next?\n"
   ]
  },
  {
   "cell_type": "markdown",
   "id": "e95f75b0",
   "metadata": {
    "papermill": {
     "duration": 0.00309,
     "end_time": "2023-01-08T13:40:07.417055",
     "exception": false,
     "start_time": "2023-01-08T13:40:07.413965",
     "status": "completed"
    },
    "tags": []
   },
   "source": [
    "* Balance the semantics of `title`, `description` and `text`"
   ]
  }
 ],
 "metadata": {
  "kernelspec": {
   "display_name": "Python 3",
   "language": "python",
   "name": "python3"
  },
  "language_info": {
   "codemirror_mode": {
    "name": "ipython",
    "version": 3
   },
   "file_extension": ".py",
   "mimetype": "text/x-python",
   "name": "python",
   "nbconvert_exporter": "python",
   "pygments_lexer": "ipython3",
   "version": "3.7.12"
  },
  "papermill": {
   "default_parameters": {},
   "duration": 68.467001,
   "end_time": "2023-01-08T13:40:10.598491",
   "environment_variables": {},
   "exception": null,
   "input_path": "__notebook__.ipynb",
   "output_path": "__notebook__.ipynb",
   "parameters": {},
   "start_time": "2023-01-08T13:39:02.131490",
   "version": "2.3.4"
  }
 },
 "nbformat": 4,
 "nbformat_minor": 5
}
