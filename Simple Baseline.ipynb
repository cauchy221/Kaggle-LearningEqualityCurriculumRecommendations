{
 "cells": [
  {
   "cell_type": "markdown",
   "id": "954a307b",
   "metadata": {
    "papermill": {
     "duration": 0.004267,
     "end_time": "2023-01-08T13:34:33.260253",
     "exception": false,
     "start_time": "2023-01-08T13:34:33.255986",
     "status": "completed"
    },
    "tags": []
   },
   "source": [
    "This is a simple baseline code using SBERT.\n",
    "\n",
    "It has no training phase. It only calculates the cosine similarity between topic and content. \n",
    "\n",
    "I choose the most similar content as the predicted output."
   ]
  },
  {
   "cell_type": "markdown",
   "id": "12573346",
   "metadata": {
    "papermill": {
     "duration": 0.003218,
     "end_time": "2023-01-08T13:34:33.266987",
     "exception": false,
     "start_time": "2023-01-08T13:34:33.263769",
     "status": "completed"
    },
    "tags": []
   },
   "source": [
    "# Code"
   ]
  },
  {
   "cell_type": "markdown",
   "id": "299ff612",
   "metadata": {
    "papermill": {
     "duration": 0.002976,
     "end_time": "2023-01-08T13:34:33.273175",
     "exception": false,
     "start_time": "2023-01-08T13:34:33.270199",
     "status": "completed"
    },
    "tags": []
   },
   "source": [
    "**Version 3**:\n",
    "* Use `text` or `description` or `title` field of the `topic` and `content`\n",
    "* Choose only those contents with the same `language` field as the topic\n",
    "* Select TOP-5 `content` since the average number of correlations per topic is 4.6\n",
    "* Use GPU P100"
   ]
  },
  {
   "cell_type": "code",
   "execution_count": 1,
   "id": "53484399",
   "metadata": {
    "execution": {
     "iopub.execute_input": "2023-01-08T13:34:33.282101Z",
     "iopub.status.busy": "2023-01-08T13:34:33.281277Z",
     "iopub.status.idle": "2023-01-08T13:34:38.841321Z",
     "shell.execute_reply": "2023-01-08T13:34:38.840337Z"
    },
    "papermill": {
     "duration": 5.567502,
     "end_time": "2023-01-08T13:34:38.843937",
     "exception": false,
     "start_time": "2023-01-08T13:34:33.276435",
     "status": "completed"
    },
    "tags": []
   },
   "outputs": [],
   "source": [
    "import numpy as np\n",
    "import pandas as pd\n",
    "import torch\n",
    "import cupy\n",
    "from transformers import AutoTokenizer, AutoModel\n",
    "from tqdm.auto import tqdm\n",
    "from cuml.metrics import pairwise_distances"
   ]
  },
  {
   "cell_type": "code",
   "execution_count": 2,
   "id": "bf222bc5",
   "metadata": {
    "execution": {
     "iopub.execute_input": "2023-01-08T13:34:38.852934Z",
     "iopub.status.busy": "2023-01-08T13:34:38.852316Z",
     "iopub.status.idle": "2023-01-08T13:34:38.857710Z",
     "shell.execute_reply": "2023-01-08T13:34:38.856725Z"
    },
    "papermill": {
     "duration": 0.012246,
     "end_time": "2023-01-08T13:34:38.859773",
     "exception": false,
     "start_time": "2023-01-08T13:34:38.847527",
     "status": "completed"
    },
    "tags": []
   },
   "outputs": [],
   "source": [
    "# config\n",
    "device = \"cuda\" if torch.cuda.is_available() else \"cpu\"\n",
    "DATA_PATH = \"/kaggle/input/learning-equality-curriculum-recommendations/\"\n",
    "MODEL_PATH = \"/kaggle/input/sbert-models/paraphrase-multilingual-mpnet-base-v2\"\n",
    "VEC_PATH = '/kaggle/input/lecr-baseline-vectors/'\n",
    "MAX_LEN = 512\n",
    "TOP_N = 5\n",
    "DEBUG = False"
   ]
  },
  {
   "cell_type": "code",
   "execution_count": 3,
   "id": "012ee37f",
   "metadata": {
    "execution": {
     "iopub.execute_input": "2023-01-08T13:34:38.867244Z",
     "iopub.status.busy": "2023-01-08T13:34:38.866982Z",
     "iopub.status.idle": "2023-01-08T13:34:58.143160Z",
     "shell.execute_reply": "2023-01-08T13:34:58.142164Z"
    },
    "papermill": {
     "duration": 19.282881,
     "end_time": "2023-01-08T13:34:58.145797",
     "exception": false,
     "start_time": "2023-01-08T13:34:38.862916",
     "status": "completed"
    },
    "tags": []
   },
   "outputs": [],
   "source": [
    "# read data\n",
    "content = pd.read_csv(DATA_PATH + 'content.csv')\n",
    "topics = pd.read_csv(DATA_PATH + 'topics.csv')\n",
    "correlations = pd.read_csv(DATA_PATH + 'correlations.csv')\n",
    "submission = pd.read_csv(DATA_PATH + 'sample_submission.csv')"
   ]
  },
  {
   "cell_type": "code",
   "execution_count": 4,
   "id": "b0001b2e",
   "metadata": {
    "execution": {
     "iopub.execute_input": "2023-01-08T13:34:58.153955Z",
     "iopub.status.busy": "2023-01-08T13:34:58.153649Z",
     "iopub.status.idle": "2023-01-08T13:35:18.379690Z",
     "shell.execute_reply": "2023-01-08T13:35:18.378509Z"
    },
    "papermill": {
     "duration": 20.23343,
     "end_time": "2023-01-08T13:35:18.382752",
     "exception": false,
     "start_time": "2023-01-08T13:34:58.149322",
     "status": "completed"
    },
    "tags": []
   },
   "outputs": [],
   "source": [
    "# model\n",
    "model = AutoModel.from_pretrained(MODEL_PATH)\n",
    "model.eval()\n",
    "model.to(device)\n",
    "# tokenizer\n",
    "tokenizer = AutoTokenizer.from_pretrained(MODEL_PATH)"
   ]
  },
  {
   "cell_type": "code",
   "execution_count": 5,
   "id": "64540e7d",
   "metadata": {
    "execution": {
     "iopub.execute_input": "2023-01-08T13:35:18.391501Z",
     "iopub.status.busy": "2023-01-08T13:35:18.391157Z",
     "iopub.status.idle": "2023-01-08T13:35:24.439122Z",
     "shell.execute_reply": "2023-01-08T13:35:24.438134Z"
    },
    "papermill": {
     "duration": 6.055295,
     "end_time": "2023-01-08T13:35:24.441539",
     "exception": false,
     "start_time": "2023-01-08T13:35:18.386244",
     "status": "completed"
    },
    "tags": []
   },
   "outputs": [],
   "source": [
    "# embedding content\n",
    "if DEBUG == False:\n",
    "    emb_content = np.load(VEC_PATH + 'vecs_content.npy')\n",
    "    emb_content = torch.tensor(emb_content)\n",
    "else:\n",
    "    vecs_content = []\n",
    "\n",
    "    for _, row in tqdm(content.iterrows(), total=len(content)):\n",
    "        # input sentence\n",
    "        sentence = row['text']\n",
    "        if type(sentence) is float:\n",
    "            sentence = row['description']\n",
    "        if type(sentence) is float:\n",
    "            sentence = row['title']\n",
    "\n",
    "        # tokenize\n",
    "        tok = tokenizer(sentence)\n",
    "        for k, v in tok.items():\n",
    "            tok[k] = torch.tensor(v[:MAX_LEN]).to(device).unsqueeze(0)\n",
    "\n",
    "        # embedded vector\n",
    "        with torch.no_grad():\n",
    "            output = model(**tok)\n",
    "        vec = output.last_hidden_state.squeeze(0).mean(0).cpu()\n",
    "        vecs_content.append(vec)\n",
    "\n",
    "    # embedded content\n",
    "    emb_content = torch.stack(vecs_content)"
   ]
  },
  {
   "cell_type": "code",
   "execution_count": 6,
   "id": "47187e8c",
   "metadata": {
    "execution": {
     "iopub.execute_input": "2023-01-08T13:35:24.451148Z",
     "iopub.status.busy": "2023-01-08T13:35:24.449582Z",
     "iopub.status.idle": "2023-01-08T13:35:24.531439Z",
     "shell.execute_reply": "2023-01-08T13:35:24.530529Z"
    },
    "papermill": {
     "duration": 0.088477,
     "end_time": "2023-01-08T13:35:24.533585",
     "exception": false,
     "start_time": "2023-01-08T13:35:24.445108",
     "status": "completed"
    },
    "tags": []
   },
   "outputs": [],
   "source": [
    "# topic dataframes we need to predict\n",
    "submission_topic_ids = submission['topic_id'].tolist()\n",
    "submission_topics = topics.query(f'id in {submission_topic_ids}').reset_index(drop=True)"
   ]
  },
  {
   "cell_type": "code",
   "execution_count": 7,
   "id": "0bda19d9",
   "metadata": {
    "execution": {
     "iopub.execute_input": "2023-01-08T13:35:24.543002Z",
     "iopub.status.busy": "2023-01-08T13:35:24.541347Z",
     "iopub.status.idle": "2023-01-08T13:35:24.553149Z",
     "shell.execute_reply": "2023-01-08T13:35:24.552328Z"
    },
    "papermill": {
     "duration": 0.017989,
     "end_time": "2023-01-08T13:35:24.555067",
     "exception": false,
     "start_time": "2023-01-08T13:35:24.537078",
     "status": "completed"
    },
    "tags": []
   },
   "outputs": [],
   "source": [
    "# embedding topics\n",
    "if DEBUG == False:\n",
    "    emb_topics = np.load(VEC_PATH + 'vecs_topics.npy')\n",
    "    emb_topics = torch.tensor(emb_topics)\n",
    "else:\n",
    "    vecs_topics = []\n",
    "\n",
    "    for _, row in tqdm(submission_topics.iterrows(), total=len(submission_topics)):\n",
    "        # input sentence\n",
    "        sentence = row['description']\n",
    "        if type(sentence) is float:\n",
    "            sentence = row['title']\n",
    "\n",
    "        # tokenize\n",
    "        tok = tokenizer(sentence)\n",
    "        for k, v in tok.items():\n",
    "            tok[k] = torch.tensor(v[:MAX_LEN]).to(device).unsqueeze(0)\n",
    "\n",
    "        # embedded vector\n",
    "        with torch.no_grad():\n",
    "            output = model(**tok)\n",
    "        vec = output.last_hidden_state.squeeze(0).mean(0).cpu()\n",
    "        vecs_topics.append(vec)\n",
    "\n",
    "    # embedded topics\n",
    "    emb_topics = torch.stack(vecs_topics)"
   ]
  },
  {
   "cell_type": "code",
   "execution_count": 8,
   "id": "d5368c5b",
   "metadata": {
    "execution": {
     "iopub.execute_input": "2023-01-08T13:35:24.563246Z",
     "iopub.status.busy": "2023-01-08T13:35:24.562432Z",
     "iopub.status.idle": "2023-01-08T13:35:24.566639Z",
     "shell.execute_reply": "2023-01-08T13:35:24.565735Z"
    },
    "papermill": {
     "duration": 0.010497,
     "end_time": "2023-01-08T13:35:24.568849",
     "exception": false,
     "start_time": "2023-01-08T13:35:24.558352",
     "status": "completed"
    },
    "tags": []
   },
   "outputs": [],
   "source": [
    "# save embeddings as dataset\n",
    "# import cupy\n",
    "# cupy.save('vecs_topics', vecs_topics)\n",
    "# cupy.save('vecs_content', vecs_content)"
   ]
  },
  {
   "cell_type": "code",
   "execution_count": 9,
   "id": "31181822",
   "metadata": {
    "execution": {
     "iopub.execute_input": "2023-01-08T13:35:24.576400Z",
     "iopub.status.busy": "2023-01-08T13:35:24.576102Z",
     "iopub.status.idle": "2023-01-08T13:35:26.607745Z",
     "shell.execute_reply": "2023-01-08T13:35:26.606732Z"
    },
    "papermill": {
     "duration": 2.03807,
     "end_time": "2023-01-08T13:35:26.610132",
     "exception": false,
     "start_time": "2023-01-08T13:35:24.572062",
     "status": "completed"
    },
    "tags": []
   },
   "outputs": [],
   "source": [
    "# predict\n",
    "vecs_content = cupy.asarray(emb_content)\n",
    "vecs_topics = cupy.asarray(emb_topics)\n",
    "\n",
    "predicts = []\n",
    "for index, vec in enumerate(vecs_topics):\n",
    "    # calculate cosine similarity\n",
    "    cosine_sims = pairwise_distances(vec.reshape(1, len(vec)), vecs_content, metric='cosine')\n",
    "    \n",
    "    # choose only those with the same language\n",
    "    language = submission_topics.loc[index, 'language']\n",
    "    same_language_index = content.query(f'language==\"{language}\"').index.tolist()\n",
    "    \n",
    "    # select\n",
    "    res = []\n",
    "    for sim_index in cosine_sims.argsort(1)[0].get():\n",
    "        if sim_index in same_language_index:\n",
    "            res.append(sim_index)\n",
    "        # Only select TOP-N\n",
    "        if len(res) >= TOP_N:\n",
    "            break\n",
    "            \n",
    "    # combine all the selected results with space\n",
    "    pred = \" \".join([content.loc[s, 'id'] for s in res])\n",
    "    predicts.append(pred)"
   ]
  },
  {
   "cell_type": "code",
   "execution_count": 10,
   "id": "1a91ac0f",
   "metadata": {
    "execution": {
     "iopub.execute_input": "2023-01-08T13:35:26.619486Z",
     "iopub.status.busy": "2023-01-08T13:35:26.618010Z",
     "iopub.status.idle": "2023-01-08T13:35:26.631548Z",
     "shell.execute_reply": "2023-01-08T13:35:26.630468Z"
    },
    "papermill": {
     "duration": 0.021482,
     "end_time": "2023-01-08T13:35:26.635138",
     "exception": false,
     "start_time": "2023-01-08T13:35:26.613656",
     "status": "completed"
    },
    "tags": []
   },
   "outputs": [
    {
     "name": "stdout",
     "output_type": "stream",
     "text": [
      "         topic_id                                        content_ids\n",
      "0  t_00004da3a1b2  c_ea45fb870cbe c_8768f474805d c_7d756190bda7 c...\n",
      "1  t_00068291e9a4  c_9a106c2655ac c_24d97713000d c_0809a3357679 c...\n",
      "2  t_00069b63a70a  c_a6db0765d460 c_ac592c567023 c_f37ecf29f9c9 c...\n",
      "3  t_0006d41a73a8  c_2e165cfa1a05 c_33699a2b161f c_6c44cf34950b c...\n",
      "4  t_4054df11a74e  c_f6416e74f9bb c_11a1dc0bfb99 c_e3fc621f753a c...\n"
     ]
    }
   ],
   "source": [
    "# submission file\n",
    "submission['content_ids'] = predicts\n",
    "print(submission)\n",
    "\n",
    "submission.to_csv('submission.csv', index=None)"
   ]
  },
  {
   "cell_type": "markdown",
   "id": "569423ad",
   "metadata": {
    "papermill": {
     "duration": 0.00317,
     "end_time": "2023-01-08T13:35:26.642566",
     "exception": false,
     "start_time": "2023-01-08T13:35:26.639396",
     "status": "completed"
    },
    "tags": []
   },
   "source": [
    "# What to do next?\n"
   ]
  },
  {
   "cell_type": "markdown",
   "id": "1e33fc11",
   "metadata": {
    "papermill": {
     "duration": 0.003041,
     "end_time": "2023-01-08T13:35:26.648884",
     "exception": false,
     "start_time": "2023-01-08T13:35:26.645843",
     "status": "completed"
    },
    "tags": []
   },
   "source": [
    "* Balance the semantics of `title`, `description` and `text`"
   ]
  }
 ],
 "metadata": {
  "kernelspec": {
   "display_name": "Python 3",
   "language": "python",
   "name": "python3"
  },
  "language_info": {
   "codemirror_mode": {
    "name": "ipython",
    "version": 3
   },
   "file_extension": ".py",
   "mimetype": "text/x-python",
   "name": "python",
   "nbconvert_exporter": "python",
   "pygments_lexer": "ipython3",
   "version": "3.7.12"
  },
  "papermill": {
   "default_parameters": {},
   "duration": 63.263495,
   "end_time": "2023-01-08T13:35:29.212649",
   "environment_variables": {},
   "exception": null,
   "input_path": "__notebook__.ipynb",
   "output_path": "__notebook__.ipynb",
   "parameters": {},
   "start_time": "2023-01-08T13:34:25.949154",
   "version": "2.3.4"
  }
 },
 "nbformat": 4,
 "nbformat_minor": 5
}
