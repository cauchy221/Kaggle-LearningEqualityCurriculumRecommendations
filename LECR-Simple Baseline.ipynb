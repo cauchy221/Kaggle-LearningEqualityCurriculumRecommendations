{
 "cells": [
  {
   "cell_type": "markdown",
   "id": "880db502",
   "metadata": {
    "papermill": {
     "duration": 0.002991,
     "end_time": "2023-01-08T09:24:21.874286",
     "exception": false,
     "start_time": "2023-01-08T09:24:21.871295",
     "status": "completed"
    },
    "tags": []
   },
   "source": [
    "This is a simple baseline code using SBERT.\n",
    "\n",
    "It has no training phase. It only calculates the cosine similarity between topic and content. \n",
    "\n",
    "I choose the most similar content as the predicted output."
   ]
  },
  {
   "cell_type": "markdown",
   "id": "de8cf3ca",
   "metadata": {
    "papermill": {
     "duration": 0.00145,
     "end_time": "2023-01-08T09:24:21.877962",
     "exception": false,
     "start_time": "2023-01-08T09:24:21.876512",
     "status": "completed"
    },
    "tags": []
   },
   "source": [
    "# Code"
   ]
  },
  {
   "cell_type": "markdown",
   "id": "a1747ab0",
   "metadata": {
    "papermill": {
     "duration": 0.001251,
     "end_time": "2023-01-08T09:24:21.880889",
     "exception": false,
     "start_time": "2023-01-08T09:24:21.879638",
     "status": "completed"
    },
    "tags": []
   },
   "source": [
    "# What to do next?\n"
   ]
  }
 ],
 "metadata": {
  "kernelspec": {
   "display_name": "Python 3",
   "language": "python",
   "name": "python3"
  },
  "language_info": {
   "codemirror_mode": {
    "name": "ipython",
    "version": 3
   },
   "file_extension": ".py",
   "mimetype": "text/x-python",
   "name": "python",
   "nbconvert_exporter": "python",
   "pygments_lexer": "ipython3",
   "version": "3.7.12"
  },
  "papermill": {
   "default_parameters": {},
   "duration": 10.251631,
   "end_time": "2023-01-08T09:24:22.709273",
   "environment_variables": {},
   "exception": null,
   "input_path": "__notebook__.ipynb",
   "output_path": "__notebook__.ipynb",
   "parameters": {},
   "start_time": "2023-01-08T09:24:12.457642",
   "version": "2.3.4"
  }
 },
 "nbformat": 4,
 "nbformat_minor": 5
}
