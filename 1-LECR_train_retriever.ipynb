{
 "cells": [
  {
   "cell_type": "markdown",
   "id": "b8c40b97-c64d-4804-8239-799a1f765843",
   "metadata": {},
   "source": [
    "# Step 1: Get our retriever\n",
    "\n",
    "Use positive data to finetune a pre-trained sentence transformer model. Sentence transformer model will automatically use in-batch negative sampling."
   ]
  },
  {
   "cell_type": "markdown",
   "id": "518b53d6-558e-4311-8507-7ee5d5f018b0",
   "metadata": {},
   "source": [
    "1. model: paraphrase-multilingual-mpnet-base-v2\n",
    "\n",
    "2. data features: only title"
   ]
  },
  {
   "cell_type": "code",
   "execution_count": 2,
   "id": "d4e723d8-c5dd-4533-8e35-ef52333d7e01",
   "metadata": {},
   "outputs": [],
   "source": [
    "!pip -qqq install sentence-transformers\n",
    "!pip -qqq install datasets\n",
    "import pandas as pd\n",
    "import numpy as np\n",
    "from tqdm.notebook import tqdm\n",
    "from sentence_transformers import SentenceTransformer, models, InputExample, losses\n",
    "from datasets import Dataset\n",
    "from torch.utils.data import DataLoader\n",
    "from sklearn.model_selection import KFold"
   ]
  },
  {
   "cell_type": "code",
   "execution_count": 3,
   "id": "b7aa4fd8-da6d-492f-858a-74114b50cfd8",
   "metadata": {},
   "outputs": [],
   "source": [
    "topics = pd.read_csv(\"topics.csv\")\n",
    "content = pd.read_csv(\"content.csv\")\n",
    "correlations = pd.read_csv(\"correlations.csv\")"
   ]
  },
  {
   "cell_type": "code",
   "execution_count": 4,
   "id": "909e8012-1f51-4f83-925f-cca4b26d2571",
   "metadata": {},
   "outputs": [],
   "source": [
    "def cv_split(train, n_folds, seed):\n",
    "    kfold = KFold(n_splits=n_folds, shuffle=True, random_state=seed)\n",
    "    for num, (train_index, val_index) in enumerate(kfold.split(train)):\n",
    "        train.loc[val_index, 'fold'] = int(num)\n",
    "    train['fold'] = train['fold'].astype(int)\n",
    "    return train"
   ]
  },
  {
   "cell_type": "code",
   "execution_count": 5,
   "id": "729756bf-fd35-463c-b42a-70478cbe337f",
   "metadata": {},
   "outputs": [],
   "source": [
    "kfolds = cv_split(correlations, 5, 1006)\n",
    "correlations = kfolds[kfolds.fold!=0]"
   ]
  },
  {
   "cell_type": "code",
   "execution_count": 6,
   "id": "17236276-9f1b-42aa-9df7-f449f7f7caf0",
   "metadata": {},
   "outputs": [],
   "source": [
    "topics.rename(columns=lambda x: \"topic_\" + x, inplace=True)\n",
    "content.rename(columns=lambda x: \"content_\" + x, inplace=True)"
   ]
  },
  {
   "cell_type": "code",
   "execution_count": 7,
   "id": "1f82ac87-5997-4879-a40a-717c44430859",
   "metadata": {
    "collapsed": true,
    "jupyter": {
     "outputs_hidden": true
    },
    "tags": []
   },
   "outputs": [
    {
     "name": "stderr",
     "output_type": "stream",
     "text": [
      "/tmp/ipykernel_517/1237978620.py:1: SettingWithCopyWarning: \n",
      "A value is trying to be set on a copy of a slice from a DataFrame.\n",
      "Try using .loc[row_indexer,col_indexer] = value instead\n",
      "\n",
      "See the caveats in the documentation: https://pandas.pydata.org/pandas-docs/stable/user_guide/indexing.html#returning-a-view-versus-a-copy\n",
      "  correlations[\"content_id\"] = correlations[\"content_ids\"].str.split(\" \")\n"
     ]
    }
   ],
   "source": [
    "correlations[\"content_id\"] = correlations[\"content_ids\"].str.split(\" \")\n",
    "corr = correlations.explode(\"content_id\").drop(columns=[\"content_ids\"])"
   ]
  },
  {
   "cell_type": "code",
   "execution_count": 8,
   "id": "e6af5c3e-ba3d-4169-805e-981a04fb20e0",
   "metadata": {},
   "outputs": [],
   "source": [
    "corr = corr.merge(topics, how=\"left\", on=\"topic_id\")\n",
    "corr = corr.merge(content, how=\"left\", on=\"content_id\")"
   ]
  },
  {
   "cell_type": "code",
   "execution_count": 9,
   "id": "bd0ebc1c-38ff-4e3e-be44-2caf21d5ef72",
   "metadata": {},
   "outputs": [],
   "source": [
    "corr[\"set\"] = corr[[\"topic_title\", \"content_title\"]].values.tolist()  # use only title here\n",
    "train_df = pd.DataFrame(corr[\"set\"])"
   ]
  },
  {
   "cell_type": "code",
   "execution_count": 10,
   "id": "afd6539b-0ae7-4092-add2-2307d55c1937",
   "metadata": {},
   "outputs": [],
   "source": [
    "dataset = Dataset.from_pandas(train_df)"
   ]
  },
  {
   "cell_type": "code",
   "execution_count": 11,
   "id": "6deae35a-3561-401c-9eed-8fef4611f701",
   "metadata": {},
   "outputs": [],
   "source": [
    "train_examples = []\n",
    "train_data = dataset[\"set\"]\n",
    "n_examples = dataset.num_rows\n",
    "\n",
    "for i in range(n_examples):\n",
    "    example = train_data[i]\n",
    "    if example[0] == None: #remove None\n",
    "        continue        \n",
    "    train_examples.append(InputExample(texts=[str(example[0]), str(example[1])]))"
   ]
  },
  {
   "cell_type": "code",
   "execution_count": 12,
   "id": "ae163f71-596b-4008-b7dc-c5c6bde8ad8b",
   "metadata": {
    "collapsed": true,
    "jupyter": {
     "outputs_hidden": true
    },
    "tags": []
   },
   "outputs": [
    {
     "data": {
      "application/vnd.jupyter.widget-view+json": {
       "model_id": "d566cd3227984e8fb10441d89f7b9097",
       "version_major": 2,
       "version_minor": 0
      },
      "text/plain": [
       "Downloading:   0%|          | 0.00/690 [00:00<?, ?B/s]"
      ]
     },
     "metadata": {},
     "output_type": "display_data"
    },
    {
     "data": {
      "application/vnd.jupyter.widget-view+json": {
       "model_id": "7cc4c4b8dd3241c09a87156613c97fe9",
       "version_major": 2,
       "version_minor": 0
      },
      "text/plain": [
       "Downloading:   0%|          | 0.00/190 [00:00<?, ?B/s]"
      ]
     },
     "metadata": {},
     "output_type": "display_data"
    },
    {
     "data": {
      "application/vnd.jupyter.widget-view+json": {
       "model_id": "7cd3fca801e8455fbdf14b55c26642a8",
       "version_major": 2,
       "version_minor": 0
      },
      "text/plain": [
       "Downloading:   0%|          | 0.00/3.77k [00:00<?, ?B/s]"
      ]
     },
     "metadata": {},
     "output_type": "display_data"
    },
    {
     "data": {
      "application/vnd.jupyter.widget-view+json": {
       "model_id": "f9f4b7acaa7a4d169485903ed6207614",
       "version_major": 2,
       "version_minor": 0
      },
      "text/plain": [
       "Downloading:   0%|          | 0.00/723 [00:00<?, ?B/s]"
      ]
     },
     "metadata": {},
     "output_type": "display_data"
    },
    {
     "data": {
      "application/vnd.jupyter.widget-view+json": {
       "model_id": "37162fd03d1f46d18d1fd81a21bf3e02",
       "version_major": 2,
       "version_minor": 0
      },
      "text/plain": [
       "Downloading:   0%|          | 0.00/122 [00:00<?, ?B/s]"
      ]
     },
     "metadata": {},
     "output_type": "display_data"
    },
    {
     "data": {
      "application/vnd.jupyter.widget-view+json": {
       "model_id": "175ccf012ca540d793ae719f9df8d1a9",
       "version_major": 2,
       "version_minor": 0
      },
      "text/plain": [
       "Downloading:   0%|          | 0.00/1.11G [00:00<?, ?B/s]"
      ]
     },
     "metadata": {},
     "output_type": "display_data"
    },
    {
     "data": {
      "application/vnd.jupyter.widget-view+json": {
       "model_id": "ba982c44e21148f4a07e8f10945342c9",
       "version_major": 2,
       "version_minor": 0
      },
      "text/plain": [
       "Downloading:   0%|          | 0.00/53.0 [00:00<?, ?B/s]"
      ]
     },
     "metadata": {},
     "output_type": "display_data"
    },
    {
     "data": {
      "application/vnd.jupyter.widget-view+json": {
       "model_id": "eb3416f16e054e779bd873ae9e001e1a",
       "version_major": 2,
       "version_minor": 0
      },
      "text/plain": [
       "Downloading:   0%|          | 0.00/5.07M [00:00<?, ?B/s]"
      ]
     },
     "metadata": {},
     "output_type": "display_data"
    },
    {
     "data": {
      "application/vnd.jupyter.widget-view+json": {
       "model_id": "2b33d9499c2e4c09a57a1e43df063940",
       "version_major": 2,
       "version_minor": 0
      },
      "text/plain": [
       "Downloading:   0%|          | 0.00/239 [00:00<?, ?B/s]"
      ]
     },
     "metadata": {},
     "output_type": "display_data"
    },
    {
     "data": {
      "application/vnd.jupyter.widget-view+json": {
       "model_id": "dde79900ced04ea5ac35d11ef0dd5d83",
       "version_major": 2,
       "version_minor": 0
      },
      "text/plain": [
       "Downloading:   0%|          | 0.00/9.08M [00:00<?, ?B/s]"
      ]
     },
     "metadata": {},
     "output_type": "display_data"
    },
    {
     "data": {
      "application/vnd.jupyter.widget-view+json": {
       "model_id": "ad93f6968fb14ef390fcef3c1e94060f",
       "version_major": 2,
       "version_minor": 0
      },
      "text/plain": [
       "Downloading:   0%|          | 0.00/402 [00:00<?, ?B/s]"
      ]
     },
     "metadata": {},
     "output_type": "display_data"
    },
    {
     "data": {
      "application/vnd.jupyter.widget-view+json": {
       "model_id": "b9b00a85e6cd4efaacb8def91733b406",
       "version_major": 2,
       "version_minor": 0
      },
      "text/plain": [
       "Downloading:   0%|          | 0.00/229 [00:00<?, ?B/s]"
      ]
     },
     "metadata": {},
     "output_type": "display_data"
    }
   ],
   "source": [
    "model = SentenceTransformer(\"sentence-transformers/paraphrase-multilingual-mpnet-base-v2\")"
   ]
  },
  {
   "cell_type": "code",
   "execution_count": 13,
   "id": "421cbb10-94a4-4636-9e14-0277ec6f6aa5",
   "metadata": {},
   "outputs": [],
   "source": [
    "train_dataloader = DataLoader(train_examples, shuffle=True, batch_size=64)\n",
    "train_loss = losses.MultipleNegativesRankingLoss(model=model)\n",
    "num_epochs = 10\n",
    "warmup_steps = int(len(train_dataloader) * num_epochs * 0.1)"
   ]
  },
  {
   "cell_type": "code",
   "execution_count": 14,
   "id": "ecf3b8c2-de54-4494-9806-245afddc0329",
   "metadata": {},
   "outputs": [
    {
     "data": {
      "application/vnd.jupyter.widget-view+json": {
       "model_id": "f6f6a755db7e4799b9f25b667ed112a5",
       "version_major": 2,
       "version_minor": 0
      },
      "text/plain": [
       "Epoch:   0%|          | 0/10 [00:00<?, ?it/s]"
      ]
     },
     "metadata": {},
     "output_type": "display_data"
    },
    {
     "data": {
      "application/vnd.jupyter.widget-view+json": {
       "model_id": "e594526f537a4d399579f7ff6eb753d2",
       "version_major": 2,
       "version_minor": 0
      },
      "text/plain": [
       "Iteration:   0%|          | 0/3523 [00:00<?, ?it/s]"
      ]
     },
     "metadata": {},
     "output_type": "display_data"
    },
    {
     "data": {
      "application/vnd.jupyter.widget-view+json": {
       "model_id": "0258a3147fdb4c82b1926daa473785fa",
       "version_major": 2,
       "version_minor": 0
      },
      "text/plain": [
       "Iteration:   0%|          | 0/3523 [00:00<?, ?it/s]"
      ]
     },
     "metadata": {},
     "output_type": "display_data"
    },
    {
     "data": {
      "application/vnd.jupyter.widget-view+json": {
       "model_id": "b29a3023a11a427a829adb674b9fefc4",
       "version_major": 2,
       "version_minor": 0
      },
      "text/plain": [
       "Iteration:   0%|          | 0/3523 [00:00<?, ?it/s]"
      ]
     },
     "metadata": {},
     "output_type": "display_data"
    },
    {
     "data": {
      "application/vnd.jupyter.widget-view+json": {
       "model_id": "44ee4224f98844218b581fd733d326a0",
       "version_major": 2,
       "version_minor": 0
      },
      "text/plain": [
       "Iteration:   0%|          | 0/3523 [00:00<?, ?it/s]"
      ]
     },
     "metadata": {},
     "output_type": "display_data"
    },
    {
     "data": {
      "application/vnd.jupyter.widget-view+json": {
       "model_id": "791f17b815674c1281a316ede684efd4",
       "version_major": 2,
       "version_minor": 0
      },
      "text/plain": [
       "Iteration:   0%|          | 0/3523 [00:00<?, ?it/s]"
      ]
     },
     "metadata": {},
     "output_type": "display_data"
    },
    {
     "data": {
      "application/vnd.jupyter.widget-view+json": {
       "model_id": "599a775de98b4a6cb50c9010bbfea6b8",
       "version_major": 2,
       "version_minor": 0
      },
      "text/plain": [
       "Iteration:   0%|          | 0/3523 [00:00<?, ?it/s]"
      ]
     },
     "metadata": {},
     "output_type": "display_data"
    },
    {
     "data": {
      "application/vnd.jupyter.widget-view+json": {
       "model_id": "fcaa7fd4e31c455383d324d444e9604b",
       "version_major": 2,
       "version_minor": 0
      },
      "text/plain": [
       "Iteration:   0%|          | 0/3523 [00:00<?, ?it/s]"
      ]
     },
     "metadata": {},
     "output_type": "display_data"
    },
    {
     "data": {
      "application/vnd.jupyter.widget-view+json": {
       "model_id": "ad3b0908c4864f5b9bd51d71b2923fa5",
       "version_major": 2,
       "version_minor": 0
      },
      "text/plain": [
       "Iteration:   0%|          | 0/3523 [00:00<?, ?it/s]"
      ]
     },
     "metadata": {},
     "output_type": "display_data"
    },
    {
     "data": {
      "application/vnd.jupyter.widget-view+json": {
       "model_id": "fe441e75491040ad92c07fb3f026ef98",
       "version_major": 2,
       "version_minor": 0
      },
      "text/plain": [
       "Iteration:   0%|          | 0/3523 [00:00<?, ?it/s]"
      ]
     },
     "metadata": {},
     "output_type": "display_data"
    },
    {
     "data": {
      "application/vnd.jupyter.widget-view+json": {
       "model_id": "289c50a1933c4feb83915bd6d527e602",
       "version_major": 2,
       "version_minor": 0
      },
      "text/plain": [
       "Iteration:   0%|          | 0/3523 [00:00<?, ?it/s]"
      ]
     },
     "metadata": {},
     "output_type": "display_data"
    }
   ],
   "source": [
    "model.fit(train_objectives=[(train_dataloader, train_loss)],\n",
    "          epochs=num_epochs,\n",
    "          save_best_model = True,\n",
    "          output_path='autodl-tmp/paraphrase-multilingual-mpnet-base-v2-exp19_fold0_epochs10',\n",
    "          warmup_steps=warmup_steps)"
   ]
  },
  {
   "cell_type": "markdown",
   "id": "daccf667-92b6-4d0e-98ef-fede4bc8ec85",
   "metadata": {},
   "source": [
    "Save kfold for the next step, since we use fold=0 for validation."
   ]
  },
  {
   "cell_type": "code",
   "execution_count": 20,
   "id": "746426d3-968e-45b7-b92b-bffa169808f6",
   "metadata": {},
   "outputs": [],
   "source": [
    "kfolds.to_csv('kfold_correlations_exp19.csv', index=0)"
   ]
  },
  {
   "cell_type": "code",
   "execution_count": null,
   "id": "6a63a243-aafd-452c-96a7-e77fb472af96",
   "metadata": {},
   "outputs": [],
   "source": []
  }
 ],
 "metadata": {
  "kernelspec": {
   "display_name": "Python 3 (ipykernel)",
   "language": "python",
   "name": "python3"
  },
  "language_info": {
   "codemirror_mode": {
    "name": "ipython",
    "version": 3
   },
   "file_extension": ".py",
   "mimetype": "text/x-python",
   "name": "python",
   "nbconvert_exporter": "python",
   "pygments_lexer": "ipython3",
   "version": "3.8.10"
  }
 },
 "nbformat": 4,
 "nbformat_minor": 5
}
