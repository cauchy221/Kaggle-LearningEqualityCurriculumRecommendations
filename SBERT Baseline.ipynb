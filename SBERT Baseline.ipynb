{
 "cells": [
  {
   "cell_type": "markdown",
   "id": "c0de8a27",
   "metadata": {
    "papermill": {
     "duration": 0.002884,
     "end_time": "2023-01-09T05:56:54.009062",
     "exception": false,
     "start_time": "2023-01-09T05:56:54.006178",
     "status": "completed"
    },
    "tags": []
   },
   "source": [
    "This is where I train a SBERT model.\n",
    "\n",
    "**Steps:**\n",
    "* Use only `title` -> `description` -> `text` for training\n",
    "* Reconstruct the `correlations.csv` to make it more straight-forward\n",
    "* Use the imformation above to make my dataset\n",
    "* Train and Predict"
   ]
  },
  {
   "cell_type": "markdown",
   "id": "10ebfd86",
   "metadata": {
    "papermill": {
     "duration": 0.001585,
     "end_time": "2023-01-09T05:56:54.012892",
     "exception": false,
     "start_time": "2023-01-09T05:56:54.011307",
     "status": "completed"
    },
    "tags": []
   },
   "source": [
    "# Bulid my Dataset"
   ]
  },
  {
   "cell_type": "markdown",
   "id": "2abedc64",
   "metadata": {
    "papermill": {
     "duration": 0.001552,
     "end_time": "2023-01-09T05:56:54.016208",
     "exception": false,
     "start_time": "2023-01-09T05:56:54.014656",
     "status": "completed"
    },
    "tags": []
   },
   "source": [
    "# Train the SBERT Model"
   ]
  },
  {
   "cell_type": "markdown",
   "id": "5334e473",
   "metadata": {
    "papermill": {
     "duration": 0.00154,
     "end_time": "2023-01-09T05:56:54.019579",
     "exception": false,
     "start_time": "2023-01-09T05:56:54.018039",
     "status": "completed"
    },
    "tags": []
   },
   "source": [
    "# Make Prediction"
   ]
  },
  {
   "cell_type": "markdown",
   "id": "55a74322",
   "metadata": {
    "papermill": {
     "duration": 0.001512,
     "end_time": "2023-01-09T05:56:54.022923",
     "exception": false,
     "start_time": "2023-01-09T05:56:54.021411",
     "status": "completed"
    },
    "tags": []
   },
   "source": [
    "# What to do next?\n",
    "* Explore the tree!!"
   ]
  }
 ],
 "metadata": {
  "kernelspec": {
   "display_name": "Python 3",
   "language": "python",
   "name": "python3"
  },
  "language_info": {
   "codemirror_mode": {
    "name": "ipython",
    "version": 3
   },
   "file_extension": ".py",
   "mimetype": "text/x-python",
   "name": "python",
   "nbconvert_exporter": "python",
   "pygments_lexer": "ipython3",
   "version": "3.7.12"
  },
  "papermill": {
   "default_parameters": {},
   "duration": 9.44352,
   "end_time": "2023-01-09T05:56:54.652013",
   "environment_variables": {},
   "exception": null,
   "input_path": "__notebook__.ipynb",
   "output_path": "__notebook__.ipynb",
   "parameters": {},
   "start_time": "2023-01-09T05:56:45.208493",
   "version": "2.3.4"
  }
 },
 "nbformat": 4,
 "nbformat_minor": 5
}
