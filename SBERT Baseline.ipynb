{
 "cells": [
  {
   "cell_type": "markdown",
   "id": "47a0d051",
   "metadata": {
    "papermill": {
     "duration": 0.002987,
     "end_time": "2023-01-09T05:57:52.358368",
     "exception": false,
     "start_time": "2023-01-09T05:57:52.355381",
     "status": "completed"
    },
    "tags": []
   },
   "source": [
    "This is where I train a SBERT model.\n",
    "\n",
    "**Steps:**\n",
    "* Use only `title` -> `description` -> `text` for training\n",
    "* Reconstruct the `correlations.csv` to make it more straight-forward\n",
    "* Use the imformation above to make my dataset\n",
    "* Train and Predict"
   ]
  },
  {
   "cell_type": "markdown",
   "id": "f4c339a7",
   "metadata": {
    "papermill": {
     "duration": 0.001645,
     "end_time": "2023-01-09T05:57:52.362324",
     "exception": false,
     "start_time": "2023-01-09T05:57:52.360679",
     "status": "completed"
    },
    "tags": []
   },
   "source": [
    "# Bulid my Dataset"
   ]
  },
  {
   "cell_type": "markdown",
   "id": "034a2ee2",
   "metadata": {
    "papermill": {
     "duration": 0.001756,
     "end_time": "2023-01-09T05:57:52.366026",
     "exception": false,
     "start_time": "2023-01-09T05:57:52.364270",
     "status": "completed"
    },
    "tags": []
   },
   "source": [
    "# Train the SBERT Model"
   ]
  },
  {
   "cell_type": "markdown",
   "id": "d84d2288",
   "metadata": {
    "papermill": {
     "duration": 0.001629,
     "end_time": "2023-01-09T05:57:52.369552",
     "exception": false,
     "start_time": "2023-01-09T05:57:52.367923",
     "status": "completed"
    },
    "tags": []
   },
   "source": [
    "# Make Prediction"
   ]
  },
  {
   "cell_type": "markdown",
   "id": "8b29ad35",
   "metadata": {
    "papermill": {
     "duration": 0.001589,
     "end_time": "2023-01-09T05:57:52.373017",
     "exception": false,
     "start_time": "2023-01-09T05:57:52.371428",
     "status": "completed"
    },
    "tags": []
   },
   "source": [
    "# What to do next?\n",
    "* Explore the tree!!"
   ]
  }
 ],
 "metadata": {
  "kernelspec": {
   "display_name": "Python 3",
   "language": "python",
   "name": "python3"
  },
  "language_info": {
   "codemirror_mode": {
    "name": "ipython",
    "version": 3
   },
   "file_extension": ".py",
   "mimetype": "text/x-python",
   "name": "python",
   "nbconvert_exporter": "python",
   "pygments_lexer": "ipython3",
   "version": "3.7.12"
  },
  "papermill": {
   "default_parameters": {},
   "duration": 10.832318,
   "end_time": "2023-01-09T05:57:53.100603",
   "environment_variables": {},
   "exception": null,
   "input_path": "__notebook__.ipynb",
   "output_path": "__notebook__.ipynb",
   "parameters": {},
   "start_time": "2023-01-09T05:57:42.268285",
   "version": "2.3.4"
  }
 },
 "nbformat": 4,
 "nbformat_minor": 5
}
