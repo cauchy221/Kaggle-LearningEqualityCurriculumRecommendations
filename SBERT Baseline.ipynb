{
 "cells": [
  {
   "cell_type": "markdown",
   "id": "4e6f5532",
   "metadata": {
    "papermill": {
     "duration": 0.005105,
     "end_time": "2023-01-09T08:10:02.583451",
     "exception": false,
     "start_time": "2023-01-09T08:10:02.578346",
     "status": "completed"
    },
    "tags": []
   },
   "source": [
    "This is where I train a SBERT model (more specifically, a **SimCSE** model for **unsupervised** learning).\n",
    "\n",
    "**Steps:**\n",
    "* Reconstruct the `correlations.csv` to make it more straight-forward\n",
    "* Explore the tree, then use `title` from `root_node` to the current `topic_node` as `input_1`\n",
    "* Use `title` of each `content_item` as `input_2`\n",
    "* Use the imformation above to make my dataset\n",
    "* Train a SBERT model\n",
    "* Predict and select `TOP_N` predicted content items with the highest cosine-similarity and the same language as the given topic"
   ]
  },
  {
   "cell_type": "code",
   "execution_count": 1,
   "id": "ba81171b",
   "metadata": {
    "execution": {
     "iopub.execute_input": "2023-01-09T08:10:02.593147Z",
     "iopub.status.busy": "2023-01-09T08:10:02.592662Z",
     "iopub.status.idle": "2023-01-09T08:10:03.559868Z",
     "shell.execute_reply": "2023-01-09T08:10:03.558542Z"
    },
    "papermill": {
     "duration": 0.975364,
     "end_time": "2023-01-09T08:10:03.562813",
     "exception": false,
     "start_time": "2023-01-09T08:10:02.587449",
     "status": "completed"
    },
    "tags": []
   },
   "outputs": [],
   "source": [
    "import pandas as pd\n",
    "import numpy as np\n",
    "import matplotlib\n",
    "import matplotlib.pyplot as plt\n",
    "import seaborn as sns\n",
    "import os\n",
    "from IPython.display import display, Markdown\n",
    "from pathlib import Path\n",
    "\n",
    "DATA_PATH = \"/kaggle/input/learning-equality-curriculum-recommendations/\""
   ]
  },
  {
   "cell_type": "markdown",
   "id": "31a0df35",
   "metadata": {
    "papermill": {
     "duration": 0.00366,
     "end_time": "2023-01-09T08:10:03.570479",
     "exception": false,
     "start_time": "2023-01-09T08:10:03.566819",
     "status": "completed"
    },
    "tags": []
   },
   "source": [
    "# Bulid my Dataset"
   ]
  },
  {
   "cell_type": "markdown",
   "id": "170b9778",
   "metadata": {
    "papermill": {
     "duration": 0.003455,
     "end_time": "2023-01-09T08:10:03.577605",
     "exception": false,
     "start_time": "2023-01-09T08:10:03.574150",
     "status": "completed"
    },
    "tags": []
   },
   "source": [
    "## Reconstruct Correlations\n",
    "\n",
    "First, considering the old `correlations.csv` file is not a ideal form for training (each row contains one `topic_id` and several `content_ids`), let's reconstruct it."
   ]
  },
  {
   "cell_type": "code",
   "execution_count": 2,
   "id": "266d74b4",
   "metadata": {
    "execution": {
     "iopub.execute_input": "2023-01-09T08:10:03.586999Z",
     "iopub.status.busy": "2023-01-09T08:10:03.586373Z",
     "iopub.status.idle": "2023-01-09T08:10:03.796162Z",
     "shell.execute_reply": "2023-01-09T08:10:03.795029Z"
    },
    "papermill": {
     "duration": 0.217681,
     "end_time": "2023-01-09T08:10:03.798950",
     "exception": false,
     "start_time": "2023-01-09T08:10:03.581269",
     "status": "completed"
    },
    "tags": []
   },
   "outputs": [
    {
     "data": {
      "text/html": [
       "<div>\n",
       "<style scoped>\n",
       "    .dataframe tbody tr th:only-of-type {\n",
       "        vertical-align: middle;\n",
       "    }\n",
       "\n",
       "    .dataframe tbody tr th {\n",
       "        vertical-align: top;\n",
       "    }\n",
       "\n",
       "    .dataframe thead th {\n",
       "        text-align: right;\n",
       "    }\n",
       "</style>\n",
       "<table border=\"1\" class=\"dataframe\">\n",
       "  <thead>\n",
       "    <tr style=\"text-align: right;\">\n",
       "      <th></th>\n",
       "      <th>topic_id</th>\n",
       "      <th>content_ids</th>\n",
       "    </tr>\n",
       "  </thead>\n",
       "  <tbody>\n",
       "    <tr>\n",
       "      <th>0</th>\n",
       "      <td>t_00004da3a1b2</td>\n",
       "      <td>c_1108dd0c7a5d c_376c5a8eb028 c_5bc0e1e2cba0 c...</td>\n",
       "    </tr>\n",
       "    <tr>\n",
       "      <th>1</th>\n",
       "      <td>t_00068291e9a4</td>\n",
       "      <td>c_639ea2ef9c95 c_89ce9367be10 c_ac1672cdcd2c c...</td>\n",
       "    </tr>\n",
       "    <tr>\n",
       "      <th>2</th>\n",
       "      <td>t_00069b63a70a</td>\n",
       "      <td>c_11a1dc0bfb99</td>\n",
       "    </tr>\n",
       "    <tr>\n",
       "      <th>3</th>\n",
       "      <td>t_0006d41a73a8</td>\n",
       "      <td>c_0c6473c3480d c_1c57a1316568 c_5e375cf14c47 c...</td>\n",
       "    </tr>\n",
       "    <tr>\n",
       "      <th>4</th>\n",
       "      <td>t_0008768bdee6</td>\n",
       "      <td>c_34e1424229b4 c_7d1a964d66d5 c_aab93ee667f4</td>\n",
       "    </tr>\n",
       "  </tbody>\n",
       "</table>\n",
       "</div>"
      ],
      "text/plain": [
       "         topic_id                                        content_ids\n",
       "0  t_00004da3a1b2  c_1108dd0c7a5d c_376c5a8eb028 c_5bc0e1e2cba0 c...\n",
       "1  t_00068291e9a4  c_639ea2ef9c95 c_89ce9367be10 c_ac1672cdcd2c c...\n",
       "2  t_00069b63a70a                                     c_11a1dc0bfb99\n",
       "3  t_0006d41a73a8  c_0c6473c3480d c_1c57a1316568 c_5e375cf14c47 c...\n",
       "4  t_0008768bdee6       c_34e1424229b4 c_7d1a964d66d5 c_aab93ee667f4"
      ]
     },
     "execution_count": 2,
     "metadata": {},
     "output_type": "execute_result"
    }
   ],
   "source": [
    "correlations_df = pd.read_csv(DATA_PATH + 'correlations.csv')\n",
    "correlations_df.head()"
   ]
  },
  {
   "cell_type": "code",
   "execution_count": 3,
   "id": "66d90f74",
   "metadata": {
    "execution": {
     "iopub.execute_input": "2023-01-09T08:10:03.809514Z",
     "iopub.status.busy": "2023-01-09T08:10:03.808847Z",
     "iopub.status.idle": "2023-01-09T08:10:04.010248Z",
     "shell.execute_reply": "2023-01-09T08:10:04.008933Z"
    },
    "papermill": {
     "duration": 0.209556,
     "end_time": "2023-01-09T08:10:04.013041",
     "exception": false,
     "start_time": "2023-01-09T08:10:03.803485",
     "status": "completed"
    },
    "tags": []
   },
   "outputs": [
    {
     "data": {
      "text/html": [
       "<div>\n",
       "<style scoped>\n",
       "    .dataframe tbody tr th:only-of-type {\n",
       "        vertical-align: middle;\n",
       "    }\n",
       "\n",
       "    .dataframe tbody tr th {\n",
       "        vertical-align: top;\n",
       "    }\n",
       "\n",
       "    .dataframe thead th {\n",
       "        text-align: right;\n",
       "    }\n",
       "</style>\n",
       "<table border=\"1\" class=\"dataframe\">\n",
       "  <thead>\n",
       "    <tr style=\"text-align: right;\">\n",
       "      <th></th>\n",
       "      <th>topic_id</th>\n",
       "      <th>content_id</th>\n",
       "    </tr>\n",
       "  </thead>\n",
       "  <tbody>\n",
       "    <tr>\n",
       "      <th>0</th>\n",
       "      <td>t_00004da3a1b2</td>\n",
       "      <td>c_1108dd0c7a5d</td>\n",
       "    </tr>\n",
       "    <tr>\n",
       "      <th>1</th>\n",
       "      <td>t_00004da3a1b2</td>\n",
       "      <td>c_376c5a8eb028</td>\n",
       "    </tr>\n",
       "    <tr>\n",
       "      <th>2</th>\n",
       "      <td>t_00004da3a1b2</td>\n",
       "      <td>c_5bc0e1e2cba0</td>\n",
       "    </tr>\n",
       "    <tr>\n",
       "      <th>3</th>\n",
       "      <td>t_00004da3a1b2</td>\n",
       "      <td>c_76231f9d0b5e</td>\n",
       "    </tr>\n",
       "    <tr>\n",
       "      <th>4</th>\n",
       "      <td>t_00068291e9a4</td>\n",
       "      <td>c_639ea2ef9c95</td>\n",
       "    </tr>\n",
       "    <tr>\n",
       "      <th>5</th>\n",
       "      <td>t_00068291e9a4</td>\n",
       "      <td>c_89ce9367be10</td>\n",
       "    </tr>\n",
       "    <tr>\n",
       "      <th>6</th>\n",
       "      <td>t_00068291e9a4</td>\n",
       "      <td>c_ac1672cdcd2c</td>\n",
       "    </tr>\n",
       "    <tr>\n",
       "      <th>7</th>\n",
       "      <td>t_00068291e9a4</td>\n",
       "      <td>c_ebb7fdf10a7e</td>\n",
       "    </tr>\n",
       "    <tr>\n",
       "      <th>8</th>\n",
       "      <td>t_00069b63a70a</td>\n",
       "      <td>c_11a1dc0bfb99</td>\n",
       "    </tr>\n",
       "    <tr>\n",
       "      <th>9</th>\n",
       "      <td>t_0006d41a73a8</td>\n",
       "      <td>c_0c6473c3480d</td>\n",
       "    </tr>\n",
       "  </tbody>\n",
       "</table>\n",
       "</div>"
      ],
      "text/plain": [
       "         topic_id      content_id\n",
       "0  t_00004da3a1b2  c_1108dd0c7a5d\n",
       "1  t_00004da3a1b2  c_376c5a8eb028\n",
       "2  t_00004da3a1b2  c_5bc0e1e2cba0\n",
       "3  t_00004da3a1b2  c_76231f9d0b5e\n",
       "4  t_00068291e9a4  c_639ea2ef9c95\n",
       "5  t_00068291e9a4  c_89ce9367be10\n",
       "6  t_00068291e9a4  c_ac1672cdcd2c\n",
       "7  t_00068291e9a4  c_ebb7fdf10a7e\n",
       "8  t_00069b63a70a  c_11a1dc0bfb99\n",
       "9  t_0006d41a73a8  c_0c6473c3480d"
      ]
     },
     "execution_count": 3,
     "metadata": {},
     "output_type": "execute_result"
    }
   ],
   "source": [
    "correlation = correlations_df.copy()\n",
    "correlation.content_ids = correlation.content_ids.str.split()\n",
    "correlation = correlation.explode('content_ids').rename(columns={\"content_ids\": \"content_id\"}).reset_index(drop=True)\n",
    "correlation.head(10)"
   ]
  },
  {
   "cell_type": "markdown",
   "id": "e6dd90dd",
   "metadata": {
    "papermill": {
     "duration": 0.003992,
     "end_time": "2023-01-09T08:10:04.021375",
     "exception": false,
     "start_time": "2023-01-09T08:10:04.017383",
     "status": "completed"
    },
    "tags": []
   },
   "source": [
    "Now it has become a dataframe `correlation` with 279919 rows and 2 columns. Each row contrains only one `topic_id` and one `content_id`."
   ]
  },
  {
   "cell_type": "markdown",
   "id": "5ad72059",
   "metadata": {
    "papermill": {
     "duration": 0.003854,
     "end_time": "2023-01-09T08:10:04.029404",
     "exception": false,
     "start_time": "2023-01-09T08:10:04.025550",
     "status": "completed"
    },
    "tags": []
   },
   "source": [
    "## Explore the Topic Tree\n",
    "\n",
    "Next, we consider using the semantic information in each `topic_tree`. \n",
    "\n",
    "We can use some helpful code from the notebook **Tips and Recommendations from Hosts**."
   ]
  },
  {
   "cell_type": "code",
   "execution_count": 4,
   "id": "c9d39da4",
   "metadata": {
    "execution": {
     "iopub.execute_input": "2023-01-09T08:10:04.039674Z",
     "iopub.status.busy": "2023-01-09T08:10:04.038778Z",
     "iopub.status.idle": "2023-01-09T08:10:04.547597Z",
     "shell.execute_reply": "2023-01-09T08:10:04.546461Z"
    },
    "papermill": {
     "duration": 0.516591,
     "end_time": "2023-01-09T08:10:04.550096",
     "exception": false,
     "start_time": "2023-01-09T08:10:04.033505",
     "status": "completed"
    },
    "tags": []
   },
   "outputs": [
    {
     "data": {
      "text/html": [
       "<div>\n",
       "<style scoped>\n",
       "    .dataframe tbody tr th:only-of-type {\n",
       "        vertical-align: middle;\n",
       "    }\n",
       "\n",
       "    .dataframe tbody tr th {\n",
       "        vertical-align: top;\n",
       "    }\n",
       "\n",
       "    .dataframe thead th {\n",
       "        text-align: right;\n",
       "    }\n",
       "</style>\n",
       "<table border=\"1\" class=\"dataframe\">\n",
       "  <thead>\n",
       "    <tr style=\"text-align: right;\">\n",
       "      <th></th>\n",
       "      <th>title</th>\n",
       "      <th>description</th>\n",
       "      <th>channel</th>\n",
       "      <th>category</th>\n",
       "      <th>level</th>\n",
       "      <th>language</th>\n",
       "      <th>parent</th>\n",
       "      <th>has_content</th>\n",
       "    </tr>\n",
       "    <tr>\n",
       "      <th>id</th>\n",
       "      <th></th>\n",
       "      <th></th>\n",
       "      <th></th>\n",
       "      <th></th>\n",
       "      <th></th>\n",
       "      <th></th>\n",
       "      <th></th>\n",
       "      <th></th>\n",
       "    </tr>\n",
       "  </thead>\n",
       "  <tbody>\n",
       "    <tr>\n",
       "      <th>t_00004da3a1b2</th>\n",
       "      <td>Откриването на резисторите</td>\n",
       "      <td>Изследване на материали, които предизвикват на...</td>\n",
       "      <td>000cf7</td>\n",
       "      <td>source</td>\n",
       "      <td>4</td>\n",
       "      <td>bg</td>\n",
       "      <td>t_16e29365b50d</td>\n",
       "      <td>True</td>\n",
       "    </tr>\n",
       "    <tr>\n",
       "      <th>t_000095e03056</th>\n",
       "      <td>Unit 3.3 Enlargements and Similarities</td>\n",
       "      <td>NaN</td>\n",
       "      <td>b3f329</td>\n",
       "      <td>aligned</td>\n",
       "      <td>2</td>\n",
       "      <td>en</td>\n",
       "      <td>t_aa32fb6252dc</td>\n",
       "      <td>False</td>\n",
       "    </tr>\n",
       "    <tr>\n",
       "      <th>t_00068291e9a4</th>\n",
       "      <td>Entradas e saídas de uma função</td>\n",
       "      <td>Entenda um pouco mais sobre funções.</td>\n",
       "      <td>8e286a</td>\n",
       "      <td>source</td>\n",
       "      <td>4</td>\n",
       "      <td>pt</td>\n",
       "      <td>t_d14b6c2a2b70</td>\n",
       "      <td>True</td>\n",
       "    </tr>\n",
       "    <tr>\n",
       "      <th>t_00069b63a70a</th>\n",
       "      <td>Transcripts</td>\n",
       "      <td>NaN</td>\n",
       "      <td>6e3ba4</td>\n",
       "      <td>source</td>\n",
       "      <td>3</td>\n",
       "      <td>en</td>\n",
       "      <td>t_4054df11a74e</td>\n",
       "      <td>True</td>\n",
       "    </tr>\n",
       "    <tr>\n",
       "      <th>t_0006d41a73a8</th>\n",
       "      <td>Графики на експоненциални функции (Алгебра 2 н...</td>\n",
       "      <td>Научи повече за графиките на сложните показате...</td>\n",
       "      <td>000cf7</td>\n",
       "      <td>source</td>\n",
       "      <td>4</td>\n",
       "      <td>bg</td>\n",
       "      <td>t_e2452e21d252</td>\n",
       "      <td>True</td>\n",
       "    </tr>\n",
       "  </tbody>\n",
       "</table>\n",
       "</div>"
      ],
      "text/plain": [
       "                                                            title  \\\n",
       "id                                                                  \n",
       "t_00004da3a1b2                         Откриването на резисторите   \n",
       "t_000095e03056             Unit 3.3 Enlargements and Similarities   \n",
       "t_00068291e9a4                    Entradas e saídas de uma função   \n",
       "t_00069b63a70a                                        Transcripts   \n",
       "t_0006d41a73a8  Графики на експоненциални функции (Алгебра 2 н...   \n",
       "\n",
       "                                                      description channel  \\\n",
       "id                                                                          \n",
       "t_00004da3a1b2  Изследване на материали, които предизвикват на...  000cf7   \n",
       "t_000095e03056                                                NaN  b3f329   \n",
       "t_00068291e9a4               Entenda um pouco mais sobre funções.  8e286a   \n",
       "t_00069b63a70a                                                NaN  6e3ba4   \n",
       "t_0006d41a73a8  Научи повече за графиките на сложните показате...  000cf7   \n",
       "\n",
       "               category  level language          parent  has_content  \n",
       "id                                                                    \n",
       "t_00004da3a1b2   source      4       bg  t_16e29365b50d         True  \n",
       "t_000095e03056  aligned      2       en  t_aa32fb6252dc        False  \n",
       "t_00068291e9a4   source      4       pt  t_d14b6c2a2b70         True  \n",
       "t_00069b63a70a   source      3       en  t_4054df11a74e         True  \n",
       "t_0006d41a73a8   source      4       bg  t_e2452e21d252         True  "
      ]
     },
     "execution_count": 4,
     "metadata": {},
     "output_type": "execute_result"
    }
   ],
   "source": [
    "topics_df = pd.read_csv(DATA_PATH + 'topics.csv', index_col=0)  # use `id` as index\n",
    "topics_df.head()"
   ]
  },
  {
   "cell_type": "code",
   "execution_count": 5,
   "id": "b8819b74",
   "metadata": {
    "_kg_hide-input": false,
    "execution": {
     "iopub.execute_input": "2023-01-09T08:10:04.561020Z",
     "iopub.status.busy": "2023-01-09T08:10:04.560606Z",
     "iopub.status.idle": "2023-01-09T08:10:04.571891Z",
     "shell.execute_reply": "2023-01-09T08:10:04.570880Z"
    },
    "papermill": {
     "duration": 0.019593,
     "end_time": "2023-01-09T08:10:04.574393",
     "exception": false,
     "start_time": "2023-01-09T08:10:04.554800",
     "status": "completed"
    },
    "tags": []
   },
   "outputs": [],
   "source": [
    "# define some helper functions and classes to aid with data traversal\n",
    "def print_markdown(md):\n",
    "    display(Markdown(md))\n",
    "\n",
    "class Topic:\n",
    "    def __init__(self, topic_id):\n",
    "        self.id = topic_id\n",
    "\n",
    "    @property\n",
    "    def parent(self):\n",
    "        parent_id = topics_df.loc[self.id].parent\n",
    "        if pd.isna(parent_id):\n",
    "            return None\n",
    "        else:\n",
    "            return Topic(parent_id)\n",
    "\n",
    "    @property\n",
    "    def ancestors(self):\n",
    "        ancestors = []\n",
    "        parent = self.parent\n",
    "        while parent is not None:\n",
    "            ancestors.append(parent)\n",
    "            parent = parent.parent\n",
    "        return ancestors\n",
    "\n",
    "    def get_breadcrumbs(self, separator=\" >> \", include_self=True, include_root=True):\n",
    "        ancestors = self.ancestors\n",
    "        if include_self:\n",
    "            ancestors = [self] + ancestors\n",
    "        if not include_root:\n",
    "            ancestors = ancestors[:-1]\n",
    "        return separator.join(reversed([a.title for a in ancestors]))\n",
    "\n",
    "    def __eq__(self, other):\n",
    "        if not isinstance(other, Topic):\n",
    "            return False\n",
    "        return self.id == other.id\n",
    "\n",
    "    def __getattr__(self, name):\n",
    "        return topics_df.loc[self.id][name]\n",
    "\n",
    "    def __str__(self):\n",
    "        return self.title\n",
    "    \n",
    "    def __repr__(self):\n",
    "        return f\"<Topic(id={self.id}, title=\\\"{self.title}\\\")>\""
   ]
  },
  {
   "cell_type": "code",
   "execution_count": 6,
   "id": "6d0bc4eb",
   "metadata": {
    "execution": {
     "iopub.execute_input": "2023-01-09T08:10:04.585132Z",
     "iopub.status.busy": "2023-01-09T08:10:04.584765Z",
     "iopub.status.idle": "2023-01-09T08:10:04.602854Z",
     "shell.execute_reply": "2023-01-09T08:10:04.601602Z"
    },
    "papermill": {
     "duration": 0.026987,
     "end_time": "2023-01-09T08:10:04.606169",
     "exception": false,
     "start_time": "2023-01-09T08:10:04.579182",
     "status": "completed"
    },
    "tags": []
   },
   "outputs": [
    {
     "name": "stdout",
     "output_type": "stream",
     "text": [
      "Topic title:\t'Откриването на резисторите'\n",
      "Breadcrumbs:\tKhan Academy (български език) >> Наука >> Физика >> Открития и проекти >> Откриването на резисторите\n"
     ]
    }
   ],
   "source": [
    "# An example\n",
    "topic = Topic(\"t_00004da3a1b2\")\n",
    "print(\"Topic title:\\t'\" + topic.title + \"'\")\n",
    "print(\"Breadcrumbs:\\t\" + topic.get_breadcrumbs())"
   ]
  },
  {
   "cell_type": "markdown",
   "id": "b290f3c4",
   "metadata": {
    "papermill": {
     "duration": 0.00441,
     "end_time": "2023-01-09T08:10:04.615608",
     "exception": false,
     "start_time": "2023-01-09T08:10:04.611198",
     "status": "completed"
    },
    "tags": []
   },
   "source": [
    "Now we can use this topic_tree to get more semantic information.\n",
    "\n",
    "For example, for the given topic `Откриването на резисторите`, we can use the hole title string from the root node to the current topic node `Khan Academy (български език) >> Наука >> Физика >> Открития и проекти >> Откриването на резисторите` to calculate the similarity between this topic and other content items.\n",
    "\n",
    "Is this a better way than using just the single title information from one topic?"
   ]
  },
  {
   "cell_type": "markdown",
   "id": "9ef769d2",
   "metadata": {
    "papermill": {
     "duration": 0.004413,
     "end_time": "2023-01-09T08:10:04.624864",
     "exception": false,
     "start_time": "2023-01-09T08:10:04.620451",
     "status": "completed"
    },
    "tags": []
   },
   "source": [
    "## Build Dataset\n",
    "\n",
    "Before training our SBERT model, we need to prepare our data in certain formats.\n",
    "\n",
    "Since it's an unsupervised tast (with no label indicates how similar two sentences are), we can use a SimCSE model (another sentence-transformers-model for unsupervised learning).\n",
    "\n",
    "SentenceTransformers implements the MultipleNegativesRankingLoss, which makes training with SimCSE trivial\n",
    "\n",
    ">**Links for more information:**\n",
    ">\n",
    ">[SimCSE](https://www.sbert.net/examples/unsupervised_learning/SimCSE/README.html)\n",
    ">\n",
    ">[How to train sentence-transformers](https://huggingface.co/blog/how-to-train-sentence-transformers)"
   ]
  },
  {
   "cell_type": "markdown",
   "id": "31badf60",
   "metadata": {
    "papermill": {
     "duration": 0.004446,
     "end_time": "2023-01-09T08:10:04.633953",
     "exception": false,
     "start_time": "2023-01-09T08:10:04.629507",
     "status": "completed"
    },
    "tags": []
   },
   "source": [
    "# Train the SBERT Model"
   ]
  },
  {
   "cell_type": "markdown",
   "id": "c1171e74",
   "metadata": {
    "papermill": {
     "duration": 0.004268,
     "end_time": "2023-01-09T08:10:04.642718",
     "exception": false,
     "start_time": "2023-01-09T08:10:04.638450",
     "status": "completed"
    },
    "tags": []
   },
   "source": [
    "# Make Prediction"
   ]
  },
  {
   "cell_type": "markdown",
   "id": "2c28384a",
   "metadata": {
    "papermill": {
     "duration": 0.0066,
     "end_time": "2023-01-09T08:10:04.654196",
     "exception": false,
     "start_time": "2023-01-09T08:10:04.647596",
     "status": "completed"
    },
    "tags": []
   },
   "source": [
    "# What to do next?"
   ]
  }
 ],
 "metadata": {
  "kernelspec": {
   "display_name": "Python 3",
   "language": "python",
   "name": "python3"
  },
  "language_info": {
   "codemirror_mode": {
    "name": "ipython",
    "version": 3
   },
   "file_extension": ".py",
   "mimetype": "text/x-python",
   "name": "python",
   "nbconvert_exporter": "python",
   "pygments_lexer": "ipython3",
   "version": "3.7.12"
  },
  "papermill": {
   "default_parameters": {},
   "duration": 11.031619,
   "end_time": "2023-01-09T08:10:05.382314",
   "environment_variables": {},
   "exception": null,
   "input_path": "__notebook__.ipynb",
   "output_path": "__notebook__.ipynb",
   "parameters": {},
   "start_time": "2023-01-09T08:09:54.350695",
   "version": "2.3.4"
  }
 },
 "nbformat": 4,
 "nbformat_minor": 5
}
